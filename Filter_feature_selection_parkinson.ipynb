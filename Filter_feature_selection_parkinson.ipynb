{
 "cells": [
  {
   "cell_type": "code",
   "execution_count": 2,
   "id": "c53224c0-f39c-46e4-8067-3e7ae4924598",
   "metadata": {},
   "outputs": [],
   "source": [
    "import pandas as pd\n",
    "from pathlib import Path\n",
    "import numpy  as np\n",
    "from sklearn.model_selection import train_test_split"
   ]
  },
  {
   "cell_type": "code",
   "execution_count": 3,
   "id": "c955084e-694c-45ab-bdca-666da6e815e5",
   "metadata": {},
   "outputs": [],
   "source": [
    "from pandas_ods_reader import read_ods\n",
    "from sklearn.model_selection import cross_val_score\n",
    "from sklearn.metrics import confusion_matrix\n",
    "from sklearn.metrics import classification_report\n",
    "from sklearn.metrics import precision_recall_curve\n",
    "from sklearn.metrics import plot_confusion_matrix\n",
    "import matplotlib.pyplot as plt\n",
    "from sklearn.metrics import accuracy_score\n",
    "from sklearn.metrics import roc_curve,auc\n",
    "from sklearn.linear_model import LogisticRegression\n",
    "from sklearn.preprocessing import StandardScaler\n",
    "from sklearn.feature_selection import f_classif\n",
    "from sklearn.feature_selection import VarianceThreshold\n",
    "from sklearn.feature_selection import SelectKBest, SelectPercentile\n",
    "from sklearn.model_selection import train_test_split\n",
    "from sklearn.ensemble import RandomForestClassifier\n"
   ]
  },
  {
   "cell_type": "code",
   "execution_count": 4,
   "id": "f5543f0e-efda-47dd-b151-4c000e808139",
   "metadata": {},
   "outputs": [],
   "source": [
    "this_dir = Path.cwd()"
   ]
  },
  {
   "cell_type": "code",
   "execution_count": 5,
   "id": "9c7b4c53-fdff-410d-8755-988e640fdd66",
   "metadata": {},
   "outputs": [],
   "source": [
    "dataset_file = this_dir / \"pd_speech_features.ods\""
   ]
  },
  {
   "cell_type": "code",
   "execution_count": 6,
   "id": "fa295daf-8cf0-4056-ac07-a7f0dc2429b3",
   "metadata": {},
   "outputs": [],
   "source": [
    "df = pd.read_excel(dataset_file, header=[0, 1], engine=\"odf\")"
   ]
  },
  {
   "cell_type": "code",
   "execution_count": 7,
   "id": "0c2be0e0-0e57-4430-be76-3d1b3e74c974",
   "metadata": {},
   "outputs": [
    {
     "data": {
      "text/html": [
       "<div>\n",
       "<style scoped>\n",
       "    .dataframe tbody tr th:only-of-type {\n",
       "        vertical-align: middle;\n",
       "    }\n",
       "\n",
       "    .dataframe tbody tr th {\n",
       "        vertical-align: top;\n",
       "    }\n",
       "\n",
       "    .dataframe thead tr th {\n",
       "        text-align: left;\n",
       "    }\n",
       "</style>\n",
       "<table border=\"1\" class=\"dataframe\">\n",
       "  <thead>\n",
       "    <tr>\n",
       "      <th></th>\n",
       "      <th colspan=\"2\" halign=\"left\">Basic Info</th>\n",
       "      <th colspan=\"8\" halign=\"left\">Baseline Features</th>\n",
       "      <th>...</th>\n",
       "      <th colspan=\"9\" halign=\"left\">TQWT Features</th>\n",
       "      <th>Class</th>\n",
       "    </tr>\n",
       "    <tr>\n",
       "      <th></th>\n",
       "      <th>id</th>\n",
       "      <th>gender</th>\n",
       "      <th>PPE</th>\n",
       "      <th>DFA</th>\n",
       "      <th>RPDE</th>\n",
       "      <th>numPulses</th>\n",
       "      <th>numPeriodsPulses</th>\n",
       "      <th>meanPeriodPulses</th>\n",
       "      <th>stdDevPeriodPulses</th>\n",
       "      <th>locPctJitter</th>\n",
       "      <th>...</th>\n",
       "      <th>tqwt_kurtosisValue_dec_28</th>\n",
       "      <th>tqwt_kurtosisValue_dec_29</th>\n",
       "      <th>tqwt_kurtosisValue_dec_30</th>\n",
       "      <th>tqwt_kurtosisValue_dec_31</th>\n",
       "      <th>tqwt_kurtosisValue_dec_32</th>\n",
       "      <th>tqwt_kurtosisValue_dec_33</th>\n",
       "      <th>tqwt_kurtosisValue_dec_34</th>\n",
       "      <th>tqwt_kurtosisValue_dec_35</th>\n",
       "      <th>tqwt_kurtosisValue_dec_36</th>\n",
       "      <th>class</th>\n",
       "    </tr>\n",
       "  </thead>\n",
       "  <tbody>\n",
       "    <tr>\n",
       "      <th>0</th>\n",
       "      <td>0</td>\n",
       "      <td>1</td>\n",
       "      <td>0.85247</td>\n",
       "      <td>0.71826</td>\n",
       "      <td>0.57227</td>\n",
       "      <td>240</td>\n",
       "      <td>239</td>\n",
       "      <td>0.008064</td>\n",
       "      <td>0.000087</td>\n",
       "      <td>0.00218</td>\n",
       "      <td>...</td>\n",
       "      <td>1.5620</td>\n",
       "      <td>2.6445</td>\n",
       "      <td>3.8686</td>\n",
       "      <td>4.2105</td>\n",
       "      <td>5.1221</td>\n",
       "      <td>4.4625</td>\n",
       "      <td>2.6202</td>\n",
       "      <td>3.0004</td>\n",
       "      <td>18.9405</td>\n",
       "      <td>1</td>\n",
       "    </tr>\n",
       "    <tr>\n",
       "      <th>1</th>\n",
       "      <td>0</td>\n",
       "      <td>1</td>\n",
       "      <td>0.76686</td>\n",
       "      <td>0.69481</td>\n",
       "      <td>0.53966</td>\n",
       "      <td>234</td>\n",
       "      <td>233</td>\n",
       "      <td>0.008258</td>\n",
       "      <td>0.000073</td>\n",
       "      <td>0.00195</td>\n",
       "      <td>...</td>\n",
       "      <td>1.5589</td>\n",
       "      <td>3.6107</td>\n",
       "      <td>23.5155</td>\n",
       "      <td>14.1962</td>\n",
       "      <td>11.0261</td>\n",
       "      <td>9.5082</td>\n",
       "      <td>6.5245</td>\n",
       "      <td>6.3431</td>\n",
       "      <td>45.1780</td>\n",
       "      <td>1</td>\n",
       "    </tr>\n",
       "    <tr>\n",
       "      <th>2</th>\n",
       "      <td>0</td>\n",
       "      <td>1</td>\n",
       "      <td>0.85083</td>\n",
       "      <td>0.67604</td>\n",
       "      <td>0.58982</td>\n",
       "      <td>232</td>\n",
       "      <td>231</td>\n",
       "      <td>0.008340</td>\n",
       "      <td>0.000060</td>\n",
       "      <td>0.00176</td>\n",
       "      <td>...</td>\n",
       "      <td>1.5643</td>\n",
       "      <td>2.3308</td>\n",
       "      <td>9.4959</td>\n",
       "      <td>10.7458</td>\n",
       "      <td>11.0177</td>\n",
       "      <td>4.8066</td>\n",
       "      <td>2.9199</td>\n",
       "      <td>3.1495</td>\n",
       "      <td>4.7666</td>\n",
       "      <td>1</td>\n",
       "    </tr>\n",
       "    <tr>\n",
       "      <th>3</th>\n",
       "      <td>1</td>\n",
       "      <td>0</td>\n",
       "      <td>0.41121</td>\n",
       "      <td>0.79672</td>\n",
       "      <td>0.59257</td>\n",
       "      <td>178</td>\n",
       "      <td>177</td>\n",
       "      <td>0.010858</td>\n",
       "      <td>0.000183</td>\n",
       "      <td>0.00419</td>\n",
       "      <td>...</td>\n",
       "      <td>3.7805</td>\n",
       "      <td>3.5664</td>\n",
       "      <td>5.2558</td>\n",
       "      <td>14.0403</td>\n",
       "      <td>4.2235</td>\n",
       "      <td>4.6857</td>\n",
       "      <td>4.8460</td>\n",
       "      <td>6.2650</td>\n",
       "      <td>4.0603</td>\n",
       "      <td>1</td>\n",
       "    </tr>\n",
       "    <tr>\n",
       "      <th>4</th>\n",
       "      <td>1</td>\n",
       "      <td>0</td>\n",
       "      <td>0.32790</td>\n",
       "      <td>0.79782</td>\n",
       "      <td>0.53028</td>\n",
       "      <td>236</td>\n",
       "      <td>235</td>\n",
       "      <td>0.008162</td>\n",
       "      <td>0.002669</td>\n",
       "      <td>0.00535</td>\n",
       "      <td>...</td>\n",
       "      <td>6.1727</td>\n",
       "      <td>5.8416</td>\n",
       "      <td>6.0805</td>\n",
       "      <td>5.7621</td>\n",
       "      <td>7.7817</td>\n",
       "      <td>11.6891</td>\n",
       "      <td>8.2103</td>\n",
       "      <td>5.0559</td>\n",
       "      <td>6.1164</td>\n",
       "      <td>1</td>\n",
       "    </tr>\n",
       "  </tbody>\n",
       "</table>\n",
       "<p>5 rows × 755 columns</p>\n",
       "</div>"
      ],
      "text/plain": [
       "  Basic Info        Baseline Features                              \\\n",
       "          id gender               PPE      DFA     RPDE numPulses   \n",
       "0          0      1           0.85247  0.71826  0.57227       240   \n",
       "1          0      1           0.76686  0.69481  0.53966       234   \n",
       "2          0      1           0.85083  0.67604  0.58982       232   \n",
       "3          1      0           0.41121  0.79672  0.59257       178   \n",
       "4          1      0           0.32790  0.79782  0.53028       236   \n",
       "\n",
       "                                                                     ...  \\\n",
       "  numPeriodsPulses meanPeriodPulses stdDevPeriodPulses locPctJitter  ...   \n",
       "0              239         0.008064           0.000087      0.00218  ...   \n",
       "1              233         0.008258           0.000073      0.00195  ...   \n",
       "2              231         0.008340           0.000060      0.00176  ...   \n",
       "3              177         0.010858           0.000183      0.00419  ...   \n",
       "4              235         0.008162           0.002669      0.00535  ...   \n",
       "\n",
       "              TQWT Features                            \\\n",
       "  tqwt_kurtosisValue_dec_28 tqwt_kurtosisValue_dec_29   \n",
       "0                    1.5620                    2.6445   \n",
       "1                    1.5589                    3.6107   \n",
       "2                    1.5643                    2.3308   \n",
       "3                    3.7805                    3.5664   \n",
       "4                    6.1727                    5.8416   \n",
       "\n",
       "                                                       \\\n",
       "  tqwt_kurtosisValue_dec_30 tqwt_kurtosisValue_dec_31   \n",
       "0                    3.8686                    4.2105   \n",
       "1                   23.5155                   14.1962   \n",
       "2                    9.4959                   10.7458   \n",
       "3                    5.2558                   14.0403   \n",
       "4                    6.0805                    5.7621   \n",
       "\n",
       "                                                       \\\n",
       "  tqwt_kurtosisValue_dec_32 tqwt_kurtosisValue_dec_33   \n",
       "0                    5.1221                    4.4625   \n",
       "1                   11.0261                    9.5082   \n",
       "2                   11.0177                    4.8066   \n",
       "3                    4.2235                    4.6857   \n",
       "4                    7.7817                   11.6891   \n",
       "\n",
       "                                                       \\\n",
       "  tqwt_kurtosisValue_dec_34 tqwt_kurtosisValue_dec_35   \n",
       "0                    2.6202                    3.0004   \n",
       "1                    6.5245                    6.3431   \n",
       "2                    2.9199                    3.1495   \n",
       "3                    4.8460                    6.2650   \n",
       "4                    8.2103                    5.0559   \n",
       "\n",
       "                            Class  \n",
       "  tqwt_kurtosisValue_dec_36 class  \n",
       "0                   18.9405     1  \n",
       "1                   45.1780     1  \n",
       "2                    4.7666     1  \n",
       "3                    4.0603     1  \n",
       "4                    6.1164     1  \n",
       "\n",
       "[5 rows x 755 columns]"
      ]
     },
     "execution_count": 7,
     "metadata": {},
     "output_type": "execute_result"
    }
   ],
   "source": [
    "df.head()"
   ]
  },
  {
   "cell_type": "code",
   "execution_count": 8,
   "id": "bcd9f959-8008-43f2-8855-2ec1d472e087",
   "metadata": {},
   "outputs": [
    {
     "name": "stderr",
     "output_type": "stream",
     "text": [
      "/home/sahitya/.local/lib/python3.8/site-packages/pandas/core/generic.py:4153: PerformanceWarning: dropping on a non-lexsorted multi-index without a level parameter may impact performance.\n",
      "  obj = obj._drop_axis(labels, axis, level=level, errors=errors)\n"
     ]
    }
   ],
   "source": [
    "df.drop(columns=['Basic Info'], inplace=True)\n",
    "data = df.to_numpy(dtype=np.float32)"
   ]
  },
  {
   "cell_type": "code",
   "execution_count": 9,
   "id": "d81347bb-506e-4cf4-953b-425b5f12eb9c",
   "metadata": {},
   "outputs": [],
   "source": [
    "\n",
    "features, labels = data[:, :-1], data[:, -1]"
   ]
  },
  {
   "cell_type": "code",
   "execution_count": 10,
   "id": "3b58d720-f3b7-403c-9b6d-2f17088fbb1b",
   "metadata": {},
   "outputs": [
    {
     "data": {
      "text/plain": [
       "((529, 752), (227, 752), (529,), (227,))"
      ]
     },
     "execution_count": 10,
     "metadata": {},
     "output_type": "execute_result"
    }
   ],
   "source": [
    "X_train, X_test, y_train, y_test = train_test_split(features, labels, test_size=0.3, random_state=0) # 70% training and 30% test\n",
    "X_train.shape, X_test.shape, y_train.shape, y_test.shape"
   ]
  },
  {
   "cell_type": "code",
   "execution_count": 11,
   "id": "bdcaa258-8d82-423b-a785-3c7a7eae94a7",
   "metadata": {},
   "outputs": [],
   "source": [
    "#remove constant and quasi constant feature\n",
    "constant_filter=VarianceThreshold(threshold=0.01)\n",
    "constant_filter.fit(X_train)\n",
    "X_train_filter=constant_filter.transform(X_train)\n",
    "X_test_filter=constant_filter.transform(X_test)"
   ]
  },
  {
   "cell_type": "code",
   "execution_count": 12,
   "id": "c16d9d71-39d0-4c41-b299-5005f923dbd1",
   "metadata": {},
   "outputs": [
    {
     "data": {
      "text/plain": [
       "((529, 424), (227, 424))"
      ]
     },
     "execution_count": 12,
     "metadata": {},
     "output_type": "execute_result"
    }
   ],
   "source": [
    "X_train_filter.shape,X_test_filter.shape"
   ]
  },
  {
   "cell_type": "code",
   "execution_count": 13,
   "id": "ec48ff03-90e5-47ee-ae0b-ce54a859a766",
   "metadata": {},
   "outputs": [],
   "source": [
    "#remove duplicate feature\n",
    "X_train_T=X_train_filter.T\n",
    "X_test_T=X_test_filter.T\n"
   ]
  },
  {
   "cell_type": "code",
   "execution_count": 14,
   "id": "612535c7-29c7-4395-8e60-23eeb4cbda33",
   "metadata": {},
   "outputs": [],
   "source": [
    "X_train_T=pd.DataFrame(X_train_T)\n",
    "X_test_T=pd.DataFrame(X_test_T)\n"
   ]
  },
  {
   "cell_type": "code",
   "execution_count": 15,
   "id": "ec63f002-b37b-4212-9da4-3b38af378b62",
   "metadata": {},
   "outputs": [
    {
     "data": {
      "text/plain": [
       "0"
      ]
     },
     "execution_count": 15,
     "metadata": {},
     "output_type": "execute_result"
    }
   ],
   "source": [
    "X_train_T.duplicated().sum()"
   ]
  },
  {
   "cell_type": "code",
   "execution_count": 16,
   "id": "f9ff1776-9cb7-4386-81f5-992eebb17007",
   "metadata": {},
   "outputs": [],
   "source": [
    "duplicated_features=X_train_T.duplicated()"
   ]
  },
  {
   "cell_type": "code",
   "execution_count": 17,
   "id": "b1957423-9335-453e-b701-f43783910e72",
   "metadata": {},
   "outputs": [],
   "source": [
    "feature_to_keep=[not index for index in duplicated_features ]\n"
   ]
  },
  {
   "cell_type": "code",
   "execution_count": 18,
   "id": "b36d7cc7-d132-44a8-bc40-4206c02be351",
   "metadata": {},
   "outputs": [],
   "source": [
    "X_train_unique=X_train_T[feature_to_keep].T\n",
    "X_test_unique=X_test_T[feature_to_keep].T\n"
   ]
  },
  {
   "cell_type": "code",
   "execution_count": 19,
   "id": "75e7bf6e-29c2-4bdc-906a-a83f2c7b6adb",
   "metadata": {},
   "outputs": [
    {
     "data": {
      "text/plain": [
       "((529, 424), (529, 752), (227, 424))"
      ]
     },
     "execution_count": 19,
     "metadata": {},
     "output_type": "execute_result"
    }
   ],
   "source": [
    "X_train_unique.shape,X_train.shape,X_test_unique.shape"
   ]
  },
  {
   "cell_type": "code",
   "execution_count": 20,
   "id": "456ec183-8bd5-4373-9708-3aff638ad769",
   "metadata": {},
   "outputs": [
    {
     "data": {
      "text/plain": [
       "(array([4.16597271e+00, 3.22832680e+01, 3.96367264e+01, 3.96541748e+01,\n",
       "        1.45040741e+01, 3.88569474e+00, 2.49552364e+01, 5.24609871e+01,\n",
       "        3.59782715e+01, 4.21158409e+01, 6.03059654e+01, 3.97414780e+01,\n",
       "        1.15181780e+00, 3.53805721e-01, 3.40362102e-01, 1.27764583e+00,\n",
       "        1.13518190e+00, 1.82599092e+00, 1.05814610e+01, 9.69781685e+00,\n",
       "        7.72741508e+00, 1.42266483e+01, 1.43348551e+00, 1.80371647e+01,\n",
       "        5.04306259e+01, 7.80391645e+00, 3.03218913e+00, 1.47988701e+01,\n",
       "        1.50000453e-01, 2.25649071e+01, 9.87523651e+00, 2.42495594e+01,\n",
       "        2.11047935e+01, 2.83162022e+00, 1.04747528e+02, 2.73363934e+01,\n",
       "        6.52478504e+00, 1.65671730e+01, 7.44572496e+00, 7.18476677e+00,\n",
       "        4.99494028e+00, 7.26522398e+00, 3.73000562e-01, 2.43886685e+00,\n",
       "        4.39989686e-01, 2.08369350e+01, 1.74107437e+01, 1.25067129e+01,\n",
       "        5.98633349e-01, 1.39513941e+01, 2.11204796e+01, 2.12655945e+01,\n",
       "        2.79630585e+01, 0.00000000e+00, 1.89299360e-01, 1.08459376e-01,\n",
       "        1.05660284e+00, 1.76928127e+00, 7.18080401e-01, 3.45369577e-02,\n",
       "        1.59157470e-01, 1.64466187e-01, 1.94481838e+00, 4.41446573e-01,\n",
       "        6.28927648e-01, 1.75433588e+00, 3.30030775e+00, 8.07258511e+00,\n",
       "        4.56365395e+00, 5.34207058e+00, 3.04605031e+00, 1.36716413e+00,\n",
       "        3.92771989e-01, 3.22666280e-02, 2.15688184e-01, 1.68656811e-01,\n",
       "        8.54730785e-01, 1.83663464e+00, 5.11433303e-01, 9.42333564e-02,\n",
       "        3.04146022e-01, 8.88040885e-02, 2.04837680e+00, 6.79381907e-01,\n",
       "        5.90218484e-01, 7.73494015e-04, 3.20149302e-01, 9.60010707e-01,\n",
       "        1.12366483e-01, 4.27096011e-03, 4.87417392e-02, 9.53024402e-02,\n",
       "        1.95506132e+00, 2.81106591e-01, 6.72588706e-01, 4.37055283e+01,\n",
       "        4.37962608e+01, 4.39707909e+01, 4.42634621e+01, 4.44866333e+01,\n",
       "        4.46411896e+01, 4.46076813e+01, 4.46038895e+01, 4.46032639e+01,\n",
       "        4.45794144e+01, 1.75467796e+01, 1.83258114e+01, 2.09939251e+01,\n",
       "        2.56274223e+01, 2.98708229e+01, 3.30907516e+01, 3.26129303e+01,\n",
       "        3.47879639e+01, 3.48257828e+01, 3.48878708e+01, 1.60707245e+01,\n",
       "        2.86764126e+01, 3.78578644e+01, 4.18000488e+01, 4.30891571e+01,\n",
       "        4.49970932e+01, 4.58308029e+01, 4.54674377e+01, 4.54292946e+01,\n",
       "        4.52951698e+01, 2.06732807e+01, 3.26068726e+01, 3.58129234e+01,\n",
       "        4.28146973e+01, 4.34352684e+01, 4.25660706e+01, 4.61097870e+01,\n",
       "        4.55513687e+01, 4.58376350e+01, 4.52915993e+01, 6.64933398e-02,\n",
       "        4.35341978e+00, 4.86884356e+00, 8.15585256e-01, 6.87574029e-01,\n",
       "        1.16851854e+00, 3.56575519e-01, 2.23755121e+00, 5.84602385e-05,\n",
       "        1.06715403e-01, 8.09262085e+00, 1.13155794e+01, 1.93097477e+01,\n",
       "        1.38615198e+01, 1.46679869e+01, 1.11795912e+01, 6.78308058e+00,\n",
       "        4.16278362e+00, 2.16805267e+00, 2.99588037e+00, 1.57994889e-02,\n",
       "        6.20908916e-01, 3.22448701e-01, 1.72273612e+00, 2.70370673e-03,\n",
       "        1.59362674e-01, 6.84515774e-01, 5.76291978e-01, 7.10814372e-02,\n",
       "        2.99937814e-01, 1.44993198e+00, 2.46192887e-03, 1.20008253e-01,\n",
       "        3.21578331e+01, 3.26040154e+01, 3.33917198e+01, 3.44912033e+01,\n",
       "        3.49871025e+01, 3.52813759e+01, 3.49654121e+01, 3.52703476e+01,\n",
       "        3.52463036e+01, 3.52202721e+01, 7.32268047e+00, 6.71559381e+00,\n",
       "        7.30914593e+00, 1.04511404e+01, 1.60955658e+01, 2.39435501e+01,\n",
       "        2.33909092e+01, 3.09555874e+01, 3.06000004e+01, 3.14005737e+01,\n",
       "        1.78938732e+01, 2.38860378e+01, 3.10050240e+01, 3.44164276e+01,\n",
       "        3.59068832e+01, 3.61807594e+01, 3.65795631e+01, 3.61529388e+01,\n",
       "        3.61635323e+01, 3.61063766e+01, 2.92311535e+01, 3.31844978e+01,\n",
       "        3.32344933e+01, 3.57403145e+01, 3.62704163e+01, 3.51375580e+01,\n",
       "        3.77495804e+01, 3.63241501e+01, 3.63073959e+01, 3.61584244e+01,\n",
       "        2.27328334e-02, 3.72904152e-01, 1.13891009e-02, 2.37973571e+00,\n",
       "        1.34481211e+01, 2.16234226e+01, 2.79794235e+01, 2.82946415e+01,\n",
       "        3.87951736e+01, 4.76333961e+01, 8.72456207e+01, 9.69360275e+01,\n",
       "        7.99984818e+01, 6.56546173e+01, 7.74695816e+01, 7.31100006e+01,\n",
       "        5.69399414e+01, 2.74414253e+01, 1.67329712e+01, 1.66476173e+01,\n",
       "        2.20704532e+00, 3.57202029e+00, 8.61842728e+00, 2.02026948e-01,\n",
       "        5.73115468e-01, 2.57854730e-01, 2.64810777e+00, 1.08712383e-01,\n",
       "        5.44331133e-01, 3.61079192e+00, 5.38386011e+00, 8.59718382e-01,\n",
       "        3.00359488e-01, 3.55466080e+01, 3.44557152e+01, 1.11429434e+01,\n",
       "        3.36499047e+00, 1.23967648e+01, 1.71639137e+01, 2.26691113e+01,\n",
       "        3.47857208e+01, 4.49245300e+01, 5.24008446e+01, 5.60187149e+01,\n",
       "        5.39864845e+01, 5.44813652e+01, 8.26066666e+01, 1.08735527e+02,\n",
       "        7.98496857e+01, 6.19021225e+01, 6.50693893e+01, 6.57138138e+01,\n",
       "        4.91449471e+01, 3.44658661e+01, 2.38452892e+01, 2.75054836e+01,\n",
       "        8.89001656e+00, 9.68476486e+00, 2.20104427e+01, 6.31407404e+00,\n",
       "        8.25628376e+00, 4.25587997e+01, 4.05611267e+01, 2.43648968e+01,\n",
       "        2.58817339e+00, 1.72783399e+00, 4.81062984e+00, 1.15562773e+01,\n",
       "        3.41200790e+01, 5.42324982e+01, 5.17609291e+01, 2.04884033e+01,\n",
       "        1.22675409e+01, 4.38841248e+00, 2.96526694e+00, 5.59411526e-01,\n",
       "        7.32467532e-01, 1.08129196e+01, 5.53179359e+00, 2.18885317e-02,\n",
       "        3.99235511e+00, 6.42731380e+00, 1.53449595e+00, 5.21389604e-01,\n",
       "        5.28961372e+00, 7.71546030e+00, 1.11756146e+00, 1.92175949e+00,\n",
       "        2.46061444e+00, 1.01110685e+00, 4.61700201e+00, 6.17459393e+00,\n",
       "        2.18604898e+00, 7.40718186e-01, 5.25318146e+00, 7.91618347e+00,\n",
       "        2.65863085e+00, 6.84528503e+01, 3.29605942e+01, 1.46942806e+01,\n",
       "        1.08327837e+01, 9.75908566e+00, 5.83093822e-01, 3.47518396e+00,\n",
       "        1.80283108e+01, 6.84655285e+00, 9.37807262e-01, 1.15853357e+01,\n",
       "        1.24271851e+01, 6.10530710e+00, 4.76527840e-01, 1.01328644e+02,\n",
       "        7.26069260e+01, 5.19490318e+01, 4.08421707e+01, 1.67255726e+01,\n",
       "        5.12818241e+00, 4.47306252e+00, 9.15201426e-01, 1.32812667e-04,\n",
       "        1.32365811e+00, 8.02200317e+00, 3.20801640e+00, 1.80465329e+00,\n",
       "        1.09410639e+01, 1.04400930e+01, 4.78242636e+00, 8.87089431e-01,\n",
       "        5.87281823e-01, 7.84078836e+00, 1.13786154e+01, 1.95382481e+01,\n",
       "        2.41064777e+01, 1.98887997e+01, 8.33653069e+00, 1.00296112e+02,\n",
       "        7.22131042e+01, 5.17819977e+01, 4.13121414e+01, 1.67736530e+01,\n",
       "        4.68534946e+00, 3.84477496e+00, 9.45706546e-01, 1.25290863e-02,\n",
       "        1.41531885e+00, 8.36128998e+00, 3.24414945e+00, 1.63054514e+00,\n",
       "        1.03831654e+01, 1.02187967e+01, 5.15919161e+00, 8.98871303e-01,\n",
       "        6.27853334e-01, 6.40523815e+00, 1.15035200e+01, 1.80248966e+01,\n",
       "        1.96561813e+01, 1.64491119e+01, 9.15019035e+00, 6.96030562e-04,\n",
       "        2.46493146e-01, 2.39021564e+00, 7.97764137e-02, 2.97852844e-01,\n",
       "        1.32875741e-01, 4.10832644e-01, 6.91925466e-01, 5.38642943e-01,\n",
       "        2.50228047e+00, 7.79092598e+00, 1.30886793e+00, 3.59642792e+00,\n",
       "        1.41879284e+00, 3.69129992e+00, 9.37263072e-01, 1.02093863e+00,\n",
       "        6.84860587e-01, 1.89633802e-01, 5.92310250e-01, 2.63201535e-01,\n",
       "        2.34352040e+00, 3.74901795e+00, 4.87920094e+00, 5.30995035e+00,\n",
       "        6.67749643e+00, 5.66276598e+00, 3.24014544e+00, 2.58251953e+00,\n",
       "        1.38358855e+00, 7.94659674e-01, 2.73426509e+00, 4.29467821e+00,\n",
       "        4.16816950e+00, 6.64856052e+00, 1.30424719e+01, 2.06337624e+01,\n",
       "        2.15636864e+01, 2.37809639e+01, 1.79084511e+01, 4.78711243e+01,\n",
       "        1.15010271e+01, 9.68220615e+00, 3.00691230e-03, 3.22975802e+00,\n",
       "        1.88166237e+01, 6.17829895e+01, 6.71290359e+01, 4.48396225e+01,\n",
       "        1.32640858e+01, 9.70710874e-01, 2.44282857e-02, 1.99185431e+00,\n",
       "        1.13712559e+01, 3.21992683e+01, 3.77491951e+01, 6.21659355e+01],\n",
       "       dtype=float32),\n",
       " array([4.17413749e-02, 2.20681269e-08, 6.44809206e-10, 6.39473974e-10,\n",
       "        1.56318129e-04, 4.92218621e-02, 7.99373765e-07, 1.56586061e-12,\n",
       "        3.70949560e-09, 1.98699779e-10, 4.26093148e-14, 6.13437856e-10,\n",
       "        2.83660114e-01, 5.52221954e-01, 5.59869885e-01, 2.58851379e-01,\n",
       "        2.87160605e-01, 1.77181602e-01, 1.21544837e-03, 1.94517174e-03,\n",
       "        5.63321263e-03, 1.80422576e-04, 2.31734708e-01, 2.56111543e-05,\n",
       "        4.01729908e-12, 5.40298782e-03, 8.22113454e-02, 1.34255402e-04,\n",
       "        6.98691308e-01, 2.62297976e-06, 1.76940311e-03, 1.13416763e-06,\n",
       "        5.44618615e-06, 9.30173770e-02, 1.51657196e-22, 2.46919740e-07,\n",
       "        1.09182149e-02, 5.41591326e-05, 6.57110987e-03, 7.58270733e-03,\n",
       "        2.58398000e-02, 7.25483801e-03, 5.41636527e-01, 1.18961975e-01,\n",
       "        5.07417500e-01, 6.22991683e-06, 3.52181414e-05, 4.41242388e-04,\n",
       "        4.39446867e-01, 2.08056183e-04, 5.40349720e-06, 5.02420653e-06,\n",
       "        1.81504859e-07, 1.00000000e+00, 6.63678527e-01, 7.42035806e-01,\n",
       "        3.04462820e-01, 1.84046403e-01, 3.97158951e-01, 8.52640808e-01,\n",
       "        6.90095007e-01, 6.85242057e-01, 1.63733885e-01, 5.06715655e-01,\n",
       "        4.28105831e-01, 1.85906664e-01, 6.98348284e-02, 4.66794474e-03,\n",
       "        3.31173688e-02, 2.12016497e-02, 8.15165788e-02, 2.42828310e-01,\n",
       "        5.31117320e-01, 8.57512772e-01, 6.42536938e-01, 6.81475222e-01,\n",
       "        3.55640590e-01, 1.75926477e-01, 4.74835753e-01, 7.58984029e-01,\n",
       "        5.81528604e-01, 7.65820503e-01, 1.52961284e-01, 4.10172522e-01,\n",
       "        4.42678750e-01, 9.77822840e-01, 5.71758747e-01, 3.27633739e-01,\n",
       "        7.37599254e-01, 9.47918057e-01, 8.25352907e-01, 7.57663429e-01,\n",
       "        1.62630633e-01, 5.96200168e-01, 4.12521303e-01, 9.37322026e-11,\n",
       "        8.98047886e-11, 8.27088883e-11, 7.20506987e-11, 6.48601381e-11,\n",
       "        6.03071967e-11, 6.12662213e-11, 6.13757101e-11, 6.13937928e-11,\n",
       "        6.20871410e-11, 3.28618735e-05, 2.21213104e-05, 5.75775812e-06,\n",
       "        5.73255249e-07, 7.13569150e-08, 1.49244332e-08, 1.88092883e-08,\n",
       "        6.57669341e-09, 6.45795062e-09, 6.26766195e-09, 6.98250369e-05,\n",
       "        1.27945356e-07, 1.50689095e-09, 2.30758579e-10, 1.25392294e-10,\n",
       "        5.10062374e-11, 3.44696389e-11, 4.08858433e-11, 4.16254184e-11,\n",
       "        4.43343938e-11, 6.76371565e-06, 1.88645721e-08, 4.01621980e-09,\n",
       "        1.42758735e-10, 1.06483447e-10, 1.60569238e-10, 3.02382216e-11,\n",
       "        3.93046186e-11, 3.43592238e-11, 4.44088828e-11, 7.96613276e-01,\n",
       "        3.74148376e-02, 2.77763158e-02, 3.66886705e-01, 4.07366186e-01,\n",
       "        2.80200273e-01, 5.50670743e-01, 1.35292739e-01, 9.93902385e-01,\n",
       "        7.44044721e-01, 4.61740419e-03, 8.24519142e-04, 1.34438142e-05,\n",
       "        2.17976427e-04, 1.43633530e-04, 8.85825255e-04, 9.46233235e-03,\n",
       "        4.18193862e-02, 1.41501501e-01, 8.40618536e-02, 9.00020480e-01,\n",
       "        4.31064010e-01, 5.70381582e-01, 1.89912543e-01, 9.58550632e-01,\n",
       "        6.89905703e-01, 4.08410519e-01, 4.48108822e-01, 7.89872944e-01,\n",
       "        5.84153295e-01, 2.29079410e-01, 9.60445762e-01, 7.29163826e-01,\n",
       "        2.34522730e-08, 1.88907041e-08, 1.29025350e-08, 7.58796403e-09,\n",
       "        5.97516614e-09, 5.18595966e-09, 6.03790618e-09, 5.21355403e-09,\n",
       "        5.27422905e-09, 5.34071987e-09, 7.02962372e-03, 9.82229877e-03,\n",
       "        7.08202180e-03, 1.30244170e-03, 6.89419758e-05, 1.32028117e-06,\n",
       "        1.73783462e-06, 4.20582609e-08, 5.00074506e-08, 3.38740556e-08,\n",
       "        2.75448274e-05, 1.35855112e-06, 4.10586267e-08, 7.86655452e-09,\n",
       "        3.83892385e-09, 3.36574724e-09, 2.77947798e-09, 3.41100881e-09,\n",
       "        3.39370265e-09, 3.48813467e-09, 9.75304957e-08, 1.42626364e-08,\n",
       "        1.39218415e-08, 4.15884749e-09, 3.22394955e-09, 5.55763613e-09,\n",
       "        1.58698488e-09, 3.14186011e-09, 3.16722759e-09, 3.40203621e-09,\n",
       "        8.80211592e-01, 5.41688740e-01, 9.15051937e-01, 1.23518571e-01,\n",
       "        2.70143268e-04, 4.19952448e-06, 1.80053206e-07, 1.54262338e-07,\n",
       "        9.63033653e-10, 1.48088295e-11, 2.68388883e-19, 4.15424442e-21,\n",
       "        6.35030899e-18, 3.76786809e-15, 1.93403016e-17, 1.33502927e-16,\n",
       "        1.98651859e-13, 2.34496000e-07, 4.97598994e-05, 5.19776659e-05,\n",
       "        1.37979507e-01, 5.93092814e-02, 3.47307581e-03, 6.53274477e-01,\n",
       "        4.49361891e-01, 6.11810267e-01, 1.04270935e-01, 7.41745889e-01,\n",
       "        4.60971653e-01, 5.79512678e-02, 2.07048114e-02, 3.54241937e-01,\n",
       "        5.83889186e-01, 4.56476235e-09, 7.71892239e-09, 9.03124281e-04,\n",
       "        6.71595633e-02, 4.67355334e-04, 3.99375022e-05, 2.49007508e-06,\n",
       "        6.58380461e-09, 5.27776954e-11, 1.61008576e-12, 3.03287723e-13,\n",
       "        7.73467390e-13, 6.15569986e-13, 2.02421332e-18, 2.84533451e-23,\n",
       "        6.77941390e-18, 2.06064600e-14, 4.90714181e-15, 3.66857550e-15,\n",
       "        7.31031468e-12, 7.68123343e-09, 1.38634027e-06, 2.27229535e-07,\n",
       "        2.99991947e-03, 1.95878348e-03, 3.46013030e-06, 1.22757414e-02,\n",
       "        4.22493834e-03, 1.61122421e-10, 4.15397716e-10, 1.07108121e-06,\n",
       "        1.08263291e-01, 1.89259529e-01, 2.87208501e-02, 7.26352795e-04,\n",
       "        9.07557229e-09, 6.90451440e-13, 2.16591914e-12, 7.42240672e-06,\n",
       "        5.00055437e-04, 3.66608016e-02, 8.56571794e-02, 4.54831064e-01,\n",
       "        3.92473489e-01, 1.07521226e-03, 1.90409776e-02, 8.82440627e-01,\n",
       "        4.62205224e-02, 1.15258535e-02, 2.15990394e-01, 4.70569789e-01,\n",
       "        2.18428895e-02, 5.67008602e-03, 2.90928483e-01, 1.66249037e-01,\n",
       "        1.17333315e-01, 3.15099269e-01, 3.21114175e-02, 1.32690109e-02,\n",
       "        1.39863580e-01, 3.89822304e-01, 2.23000757e-02, 5.08242240e-03,\n",
       "        1.03586815e-01, 1.06970298e-15, 1.58947806e-08, 1.41697805e-04,\n",
       "        1.06397015e-03, 1.88254984e-03, 4.45443898e-01, 6.28515705e-02,\n",
       "        2.57265656e-05, 9.13614780e-03, 3.33286613e-01, 7.15332339e-04,\n",
       "        4.59977658e-04, 1.37928771e-02, 4.90303189e-01, 6.42311804e-22,\n",
       "        1.67010002e-16, 1.98502456e-12, 3.63484132e-10, 4.99482994e-05,\n",
       "        2.39457637e-02, 3.49019617e-02, 3.39176714e-01, 9.90809381e-01,\n",
       "        2.50458360e-01, 4.79806913e-03, 7.38520101e-02, 1.79729134e-01,\n",
       "        1.00475340e-03, 1.31010090e-03, 2.91904621e-02, 3.46698791e-01,\n",
       "        4.43815261e-01, 5.29548479e-03, 7.97578599e-04, 1.19788974e-05,\n",
       "        1.21765379e-06, 1.00377265e-05, 4.04512417e-03, 9.94899257e-22,\n",
       "        1.99038449e-16, 2.14486089e-12, 2.90813956e-10, 4.87367033e-05,\n",
       "        3.08691636e-02, 5.04274927e-02, 3.31260711e-01, 9.10918832e-01,\n",
       "        2.34711125e-01, 3.99123738e-03, 7.22504035e-02, 2.02189997e-01,\n",
       "        1.35030074e-03, 1.47354766e-03, 2.35260688e-02, 3.43519062e-01,\n",
       "        4.28500354e-01, 1.16682472e-02, 7.46803067e-04, 2.57712090e-05,\n",
       "        1.12868847e-05, 5.75291597e-05, 2.60823523e-03, 9.78962302e-01,\n",
       "        6.19762301e-01, 1.22697055e-01, 7.77711511e-01, 5.85462570e-01,\n",
       "        7.15615034e-01, 5.21825790e-01, 4.05886978e-01, 4.63322073e-01,\n",
       "        1.14281513e-01, 5.44139184e-03, 2.53119111e-01, 5.84504753e-02,\n",
       "        2.34138384e-01, 5.52360415e-02, 3.33426774e-01, 3.12760144e-01,\n",
       "        4.08292592e-01, 6.63399875e-01, 4.41871971e-01, 6.08144104e-01,\n",
       "        1.26404986e-01, 5.33728823e-02, 2.76116896e-02, 2.15919334e-02,\n",
       "        1.00316936e-02, 1.76836401e-02, 7.24260285e-02, 1.08648501e-01,\n",
       "        2.40021884e-01, 3.73101652e-01, 9.88121778e-02, 3.87174971e-02,\n",
       "        4.16877232e-02, 1.01937978e-02, 3.33623670e-04, 6.89937860e-06,\n",
       "        4.32705474e-06, 1.43137720e-06, 2.73415553e-05, 1.32506575e-11,\n",
       "        7.47783692e-04, 1.96146313e-03, 9.56290424e-01, 7.28837848e-02,\n",
       "        1.72508953e-05, 2.17529309e-14, 1.93911443e-15, 5.49291550e-11,\n",
       "        2.97270366e-04, 3.24955076e-01, 8.75859976e-01, 1.58737212e-01,\n",
       "        8.00677342e-04, 2.29856489e-08, 1.58727742e-09, 1.82789625e-14],\n",
       "       dtype=float32))"
      ]
     },
     "execution_count": 20,
     "metadata": {},
     "output_type": "execute_result"
    }
   ],
   "source": [
    "#Now do F-test\n",
    "sel=f_classif(X_train_unique,y_train)\n",
    "sel"
   ]
  },
  {
   "cell_type": "code",
   "execution_count": 21,
   "id": "542362c6-f55d-4e0a-ac18-e625049f9045",
   "metadata": {},
   "outputs": [],
   "source": [
    "p_values=pd.Series(sel[1])\n",
    "p_values.index=X_train_unique.columns\n",
    "p_values.sort_values(ascending=True,inplace=True)"
   ]
  },
  {
   "cell_type": "code",
   "execution_count": 22,
   "id": "cd0d7ae2-a33e-49cc-9c16-5fb5b679a940",
   "metadata": {},
   "outputs": [
    {
     "data": {
      "text/plain": [
       "<AxesSubplot:>"
      ]
     },
     "execution_count": 22,
     "metadata": {},
     "output_type": "execute_result"
    },
    {
     "data": {
      "image/png": "[encoded data removed]",
      "text/plain": [
       "<Figure size 1152x360 with 1 Axes>"
      ]
     },
     "metadata": {
      "needs_background": "light"
     },
     "output_type": "display_data"
    }
   ],
   "source": [
    "p_values.plot.bar(figsize=(16,5))"
   ]
  },
  {
   "cell_type": "code",
   "execution_count": 23,
   "id": "8c3089e5-5c45-4e6c-805a-0ec0b3ebdb43",
   "metadata": {},
   "outputs": [
    {
     "name": "stdout",
     "output_type": "stream",
     "text": [
      "255    2.845335e-23\n",
      "34     1.516572e-22\n",
      "319    6.423118e-22\n",
      "343    9.948993e-22\n",
      "219    4.154244e-21\n",
      "           ...     \n",
      "85     9.778228e-01\n",
      "367    9.789623e-01\n",
      "327    9.908094e-01\n",
      "143    9.939024e-01\n",
      "53     1.000000e+00\n",
      "Length: 424, dtype: float32\n"
     ]
    }
   ],
   "source": [
    "print(p_values)"
   ]
  },
  {
   "cell_type": "code",
   "execution_count": 24,
   "id": "db1681fa-fd57-42c2-b50f-631846138c52",
   "metadata": {},
   "outputs": [
    {
     "data": {
      "text/plain": [
       "255    2.845335e-23\n",
       "34     1.516572e-22\n",
       "319    6.423118e-22\n",
       "343    9.948993e-22\n",
       "219    4.154244e-21\n",
       "           ...     \n",
       "236    4.609717e-01\n",
       "375    4.633221e-01\n",
       "291    4.705698e-01\n",
       "78     4.748358e-01\n",
       "318    4.903032e-01\n",
       "Length: 366, dtype: float32"
      ]
     },
     "execution_count": 24,
     "metadata": {},
     "output_type": "execute_result"
    }
   ],
   "source": [
    "p_values[p_values<0.5]"
   ]
  },
  {
   "cell_type": "code",
   "execution_count": 25,
   "id": "2dd9f414-1e4b-4202-8f6f-caa3ad8816b7",
   "metadata": {},
   "outputs": [
    {
     "data": {
      "text/plain": [
       "Int64Index([255,  34, 319, 343, 219, 218, 254, 220, 256, 222,\n",
       "            ...\n",
       "            210,  89, 410, 159, 166,  85, 367, 327, 143,  53],\n",
       "           dtype='int64', length=424)"
      ]
     },
     "execution_count": 25,
     "metadata": {},
     "output_type": "execute_result"
    }
   ],
   "source": [
    "p_values.index"
   ]
  },
  {
   "cell_type": "code",
   "execution_count": 26,
   "id": "7d96fbce-d30e-4396-8c5c-6b4982203d38",
   "metadata": {},
   "outputs": [],
   "source": [
    "X_train_p=X_train_unique[p_values.index]"
   ]
  },
  {
   "cell_type": "code",
   "execution_count": 27,
   "id": "d70170c3-1dfc-4453-98e7-62c407fc137b",
   "metadata": {},
   "outputs": [],
   "source": [
    "X_test_p=X_test_unique[p_values.index]"
   ]
  },
  {
   "cell_type": "code",
   "execution_count": 28,
   "id": "2e5323b8-88bc-4223-a102-e68942c5ef4b",
   "metadata": {},
   "outputs": [
    {
     "name": "stdout",
     "output_type": "stream",
     "text": [
      "Accuracy: 0.775330396475771\n"
     ]
    },
    {
     "name": "stderr",
     "output_type": "stream",
     "text": [
      "/home/sahitya/.local/lib/python3.8/site-packages/sklearn/linear_model/_logistic.py:763: ConvergenceWarning: lbfgs failed to converge (status=1):\n",
      "STOP: TOTAL NO. of ITERATIONS REACHED LIMIT.\n",
      "\n",
      "Increase the number of iterations (max_iter) or scale the data as shown in:\n",
      "    https://scikit-learn.org/stable/modules/preprocessing.html\n",
      "Please also refer to the documentation for alternative solver options:\n",
      "    https://scikit-learn.org/stable/modules/linear_model.html#logistic-regression\n",
      "  n_iter_i = _check_optimize_result(\n"
     ]
    }
   ],
   "source": [
    "clf=LogisticRegression(tol=0.1)#tolerence is 0.1\n",
    "clf.fit(X_train_p,y_train) \n",
    "y_pred=clf.predict(X_test_p)\n",
    "print(\"Accuracy:\",accuracy_score(y_test,y_pred))"
   ]
  },
  {
   "cell_type": "code",
   "execution_count": 29,
   "id": "6f3c2dc0-ef5b-442c-9695-92b70b6d6fca",
   "metadata": {},
   "outputs": [],
   "source": [
    "\n"
   ]
  },
  {
   "cell_type": "code",
   "execution_count": null,
   "id": "8896fd81-e148-403b-a7bd-03d516b98dcd",
   "metadata": {},
   "outputs": [],
   "source": []
  },
  {
   "cell_type": "code",
   "execution_count": null,
   "id": "8f7c5906-994a-4f6e-8ccc-d5a657fb7cc3",
   "metadata": {},
   "outputs": [],
   "source": []
  },
  {
   "cell_type": "code",
   "execution_count": null,
   "id": "fa094f0d-c938-42c8-98d1-39e95f023320",
   "metadata": {},
   "outputs": [],
   "source": []
  }
 ],
 "metadata": {
  "kernelspec": {
   "display_name": "Python 3",
   "language": "python",
   "name": "python3"
  },
  "language_info": {
   "codemirror_mode": {
    "name": "ipython",
    "version": 3
   },
   "file_extension": ".py",
   "mimetype": "text/x-python",
   "name": "python",
   "nbconvert_exporter": "python",
   "pygments_lexer": "ipython3",
   "version": "3.8.5"
  }
 },
 "nbformat": 4,
 "nbformat_minor": 5
}
