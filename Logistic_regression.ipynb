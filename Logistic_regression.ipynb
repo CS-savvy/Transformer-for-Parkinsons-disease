{
 "cells": [
  {
   "cell_type": "code",
   "execution_count": 21,
   "id": "9418cdfe-3c5a-484f-87c1-48c30902e9ab",
   "metadata": {},
   "outputs": [],
   "source": [
    "import pandas as pd\n",
    "from pathlib import Path\n",
    "import numpy  as np\n",
    "from sklearn.model_selection import train_test_split"
   ]
  },
  {
   "cell_type": "code",
   "execution_count": 10,
   "id": "58ae7919-24f1-4d71-bfcc-d0a07e32e6a1",
   "metadata": {},
   "outputs": [],
   "source": [
    "from pandas_ods_reader import read_ods"
   ]
  },
  {
   "cell_type": "code",
   "execution_count": 11,
   "id": "d67d817b-2efc-42b1-ba2e-9275e5712eee",
   "metadata": {},
   "outputs": [],
   "source": [
    "this_dir = Path.cwd()\n",
    "dataset_file = this_dir / \"pd_speech_features.ods\"\n",
    "df = pd.read_excel(dataset_file, header=[0, 1], engine=\"odf\")\n"
   ]
  },
  {
   "cell_type": "code",
   "execution_count": 12,
   "id": "e0e2d0bb-7b36-403b-b863-427fed5b5716",
   "metadata": {},
   "outputs": [
    {
     "data": {
      "text/html": [
       "<div>\n",
       "<style scoped>\n",
       "    .dataframe tbody tr th:only-of-type {\n",
       "        vertical-align: middle;\n",
       "    }\n",
       "\n",
       "    .dataframe tbody tr th {\n",
       "        vertical-align: top;\n",
       "    }\n",
       "\n",
       "    .dataframe thead tr th {\n",
       "        text-align: left;\n",
       "    }\n",
       "</style>\n",
       "<table border=\"1\" class=\"dataframe\">\n",
       "  <thead>\n",
       "    <tr>\n",
       "      <th></th>\n",
       "      <th colspan=\"2\" halign=\"left\">Basic Info</th>\n",
       "      <th colspan=\"8\" halign=\"left\">Baseline Features</th>\n",
       "      <th>...</th>\n",
       "      <th colspan=\"9\" halign=\"left\">TQWT Features</th>\n",
       "      <th>Class</th>\n",
       "    </tr>\n",
       "    <tr>\n",
       "      <th></th>\n",
       "      <th>id</th>\n",
       "      <th>gender</th>\n",
       "      <th>PPE</th>\n",
       "      <th>DFA</th>\n",
       "      <th>RPDE</th>\n",
       "      <th>numPulses</th>\n",
       "      <th>numPeriodsPulses</th>\n",
       "      <th>meanPeriodPulses</th>\n",
       "      <th>stdDevPeriodPulses</th>\n",
       "      <th>locPctJitter</th>\n",
       "      <th>...</th>\n",
       "      <th>tqwt_kurtosisValue_dec_28</th>\n",
       "      <th>tqwt_kurtosisValue_dec_29</th>\n",
       "      <th>tqwt_kurtosisValue_dec_30</th>\n",
       "      <th>tqwt_kurtosisValue_dec_31</th>\n",
       "      <th>tqwt_kurtosisValue_dec_32</th>\n",
       "      <th>tqwt_kurtosisValue_dec_33</th>\n",
       "      <th>tqwt_kurtosisValue_dec_34</th>\n",
       "      <th>tqwt_kurtosisValue_dec_35</th>\n",
       "      <th>tqwt_kurtosisValue_dec_36</th>\n",
       "      <th>class</th>\n",
       "    </tr>\n",
       "  </thead>\n",
       "  <tbody>\n",
       "    <tr>\n",
       "      <th>0</th>\n",
       "      <td>0</td>\n",
       "      <td>1</td>\n",
       "      <td>0.85247</td>\n",
       "      <td>0.71826</td>\n",
       "      <td>0.57227</td>\n",
       "      <td>240</td>\n",
       "      <td>239</td>\n",
       "      <td>0.008064</td>\n",
       "      <td>0.000087</td>\n",
       "      <td>0.00218</td>\n",
       "      <td>...</td>\n",
       "      <td>1.5620</td>\n",
       "      <td>2.6445</td>\n",
       "      <td>3.8686</td>\n",
       "      <td>4.2105</td>\n",
       "      <td>5.1221</td>\n",
       "      <td>4.4625</td>\n",
       "      <td>2.6202</td>\n",
       "      <td>3.0004</td>\n",
       "      <td>18.9405</td>\n",
       "      <td>1</td>\n",
       "    </tr>\n",
       "    <tr>\n",
       "      <th>1</th>\n",
       "      <td>0</td>\n",
       "      <td>1</td>\n",
       "      <td>0.76686</td>\n",
       "      <td>0.69481</td>\n",
       "      <td>0.53966</td>\n",
       "      <td>234</td>\n",
       "      <td>233</td>\n",
       "      <td>0.008258</td>\n",
       "      <td>0.000073</td>\n",
       "      <td>0.00195</td>\n",
       "      <td>...</td>\n",
       "      <td>1.5589</td>\n",
       "      <td>3.6107</td>\n",
       "      <td>23.5155</td>\n",
       "      <td>14.1962</td>\n",
       "      <td>11.0261</td>\n",
       "      <td>9.5082</td>\n",
       "      <td>6.5245</td>\n",
       "      <td>6.3431</td>\n",
       "      <td>45.1780</td>\n",
       "      <td>1</td>\n",
       "    </tr>\n",
       "    <tr>\n",
       "      <th>2</th>\n",
       "      <td>0</td>\n",
       "      <td>1</td>\n",
       "      <td>0.85083</td>\n",
       "      <td>0.67604</td>\n",
       "      <td>0.58982</td>\n",
       "      <td>232</td>\n",
       "      <td>231</td>\n",
       "      <td>0.008340</td>\n",
       "      <td>0.000060</td>\n",
       "      <td>0.00176</td>\n",
       "      <td>...</td>\n",
       "      <td>1.5643</td>\n",
       "      <td>2.3308</td>\n",
       "      <td>9.4959</td>\n",
       "      <td>10.7458</td>\n",
       "      <td>11.0177</td>\n",
       "      <td>4.8066</td>\n",
       "      <td>2.9199</td>\n",
       "      <td>3.1495</td>\n",
       "      <td>4.7666</td>\n",
       "      <td>1</td>\n",
       "    </tr>\n",
       "    <tr>\n",
       "      <th>3</th>\n",
       "      <td>1</td>\n",
       "      <td>0</td>\n",
       "      <td>0.41121</td>\n",
       "      <td>0.79672</td>\n",
       "      <td>0.59257</td>\n",
       "      <td>178</td>\n",
       "      <td>177</td>\n",
       "      <td>0.010858</td>\n",
       "      <td>0.000183</td>\n",
       "      <td>0.00419</td>\n",
       "      <td>...</td>\n",
       "      <td>3.7805</td>\n",
       "      <td>3.5664</td>\n",
       "      <td>5.2558</td>\n",
       "      <td>14.0403</td>\n",
       "      <td>4.2235</td>\n",
       "      <td>4.6857</td>\n",
       "      <td>4.8460</td>\n",
       "      <td>6.2650</td>\n",
       "      <td>4.0603</td>\n",
       "      <td>1</td>\n",
       "    </tr>\n",
       "    <tr>\n",
       "      <th>4</th>\n",
       "      <td>1</td>\n",
       "      <td>0</td>\n",
       "      <td>0.32790</td>\n",
       "      <td>0.79782</td>\n",
       "      <td>0.53028</td>\n",
       "      <td>236</td>\n",
       "      <td>235</td>\n",
       "      <td>0.008162</td>\n",
       "      <td>0.002669</td>\n",
       "      <td>0.00535</td>\n",
       "      <td>...</td>\n",
       "      <td>6.1727</td>\n",
       "      <td>5.8416</td>\n",
       "      <td>6.0805</td>\n",
       "      <td>5.7621</td>\n",
       "      <td>7.7817</td>\n",
       "      <td>11.6891</td>\n",
       "      <td>8.2103</td>\n",
       "      <td>5.0559</td>\n",
       "      <td>6.1164</td>\n",
       "      <td>1</td>\n",
       "    </tr>\n",
       "  </tbody>\n",
       "</table>\n",
       "<p>5 rows × 755 columns</p>\n",
       "</div>"
      ],
      "text/plain": [
       "  Basic Info        Baseline Features                              \\\n",
       "          id gender               PPE      DFA     RPDE numPulses   \n",
       "0          0      1           0.85247  0.71826  0.57227       240   \n",
       "1          0      1           0.76686  0.69481  0.53966       234   \n",
       "2          0      1           0.85083  0.67604  0.58982       232   \n",
       "3          1      0           0.41121  0.79672  0.59257       178   \n",
       "4          1      0           0.32790  0.79782  0.53028       236   \n",
       "\n",
       "                                                                     ...  \\\n",
       "  numPeriodsPulses meanPeriodPulses stdDevPeriodPulses locPctJitter  ...   \n",
       "0              239         0.008064           0.000087      0.00218  ...   \n",
       "1              233         0.008258           0.000073      0.00195  ...   \n",
       "2              231         0.008340           0.000060      0.00176  ...   \n",
       "3              177         0.010858           0.000183      0.00419  ...   \n",
       "4              235         0.008162           0.002669      0.00535  ...   \n",
       "\n",
       "              TQWT Features                            \\\n",
       "  tqwt_kurtosisValue_dec_28 tqwt_kurtosisValue_dec_29   \n",
       "0                    1.5620                    2.6445   \n",
       "1                    1.5589                    3.6107   \n",
       "2                    1.5643                    2.3308   \n",
       "3                    3.7805                    3.5664   \n",
       "4                    6.1727                    5.8416   \n",
       "\n",
       "                                                       \\\n",
       "  tqwt_kurtosisValue_dec_30 tqwt_kurtosisValue_dec_31   \n",
       "0                    3.8686                    4.2105   \n",
       "1                   23.5155                   14.1962   \n",
       "2                    9.4959                   10.7458   \n",
       "3                    5.2558                   14.0403   \n",
       "4                    6.0805                    5.7621   \n",
       "\n",
       "                                                       \\\n",
       "  tqwt_kurtosisValue_dec_32 tqwt_kurtosisValue_dec_33   \n",
       "0                    5.1221                    4.4625   \n",
       "1                   11.0261                    9.5082   \n",
       "2                   11.0177                    4.8066   \n",
       "3                    4.2235                    4.6857   \n",
       "4                    7.7817                   11.6891   \n",
       "\n",
       "                                                       \\\n",
       "  tqwt_kurtosisValue_dec_34 tqwt_kurtosisValue_dec_35   \n",
       "0                    2.6202                    3.0004   \n",
       "1                    6.5245                    6.3431   \n",
       "2                    2.9199                    3.1495   \n",
       "3                    4.8460                    6.2650   \n",
       "4                    8.2103                    5.0559   \n",
       "\n",
       "                            Class  \n",
       "  tqwt_kurtosisValue_dec_36 class  \n",
       "0                   18.9405     1  \n",
       "1                   45.1780     1  \n",
       "2                    4.7666     1  \n",
       "3                    4.0603     1  \n",
       "4                    6.1164     1  \n",
       "\n",
       "[5 rows x 755 columns]"
      ]
     },
     "execution_count": 12,
     "metadata": {},
     "output_type": "execute_result"
    }
   ],
   "source": [
    "df.head()"
   ]
  },
  {
   "cell_type": "code",
   "execution_count": null,
   "id": "48d8be14-bd46-4335-ab19-da3c5c677976",
   "metadata": {},
   "outputs": [],
   "source": [
    "df.drop(columns=['Basic Info'], inplace=True)\n",
    "data = df.to_numpy(dtype=np.float32)"
   ]
  },
  {
   "cell_type": "code",
   "execution_count": 16,
   "id": "aa837578-bf37-41ba-bad6-4125b4904c12",
   "metadata": {},
   "outputs": [
    {
     "data": {
      "text/plain": [
       "(756, 753)"
      ]
     },
     "execution_count": 16,
     "metadata": {},
     "output_type": "execute_result"
    }
   ],
   "source": [
    "data.shape"
   ]
  },
  {
   "cell_type": "code",
   "execution_count": 17,
   "id": "849c39af-195a-4d0c-94d7-5a6e5b53c988",
   "metadata": {},
   "outputs": [],
   "source": [
    "\n",
    "features, labels = data[:, :-1], data[:, -1]"
   ]
  },
  {
   "cell_type": "code",
   "execution_count": 18,
   "id": "6c8474f4-a996-4b28-bea6-6b7a887c047c",
   "metadata": {},
   "outputs": [],
   "source": [
    "from sklearn.preprocessing import StandardScaler"
   ]
  },
  {
   "cell_type": "code",
   "execution_count": 19,
   "id": "66f6eaa4-098d-4570-b21f-fbfc40bd089e",
   "metadata": {},
   "outputs": [
    {
     "data": {
      "text/plain": [
       "(756, 752)"
      ]
     },
     "execution_count": 19,
     "metadata": {},
     "output_type": "execute_result"
    }
   ],
   "source": [
    "scaler = StandardScaler()\n",
    "scaler.fit(features)\n",
    "features = scaler.transform(features)\n",
    "features.shape"
   ]
  },
  {
   "cell_type": "code",
   "execution_count": 45,
   "id": "8a498c3a-c950-404d-8324-1b17339ab95e",
   "metadata": {},
   "outputs": [
    {
     "data": {
      "text/plain": [
       "((529, 752), (227, 752), (529,), (227,))"
      ]
     },
     "execution_count": 45,
     "metadata": {},
     "output_type": "execute_result"
    }
   ],
   "source": [
    "X_train, X_test, y_train, y_test = train_test_split(features, labels, test_size=0.3, random_state=450) # 70% training and 30% test\n",
    "X_train.shape, X_test.shape, y_train.shape, y_test.shape"
   ]
  },
  {
   "cell_type": "code",
   "execution_count": 46,
   "id": "47d4d4e4-54b4-4fb3-8880-bb4fe62e8749",
   "metadata": {},
   "outputs": [
    {
     "data": {
      "text/plain": [
       "LogisticRegression(tol=0.1)"
      ]
     },
     "execution_count": 46,
     "metadata": {},
     "output_type": "execute_result"
    }
   ],
   "source": [
    "from sklearn.linear_model import LogisticRegression\n",
    "clf=LogisticRegression(tol=0.1)#tolerence is 0.1\n",
    "clf.fit(X_train,y_train) "
   ]
  },
  {
   "cell_type": "code",
   "execution_count": 57,
   "id": "7ea40b5a-9683-4a2c-912a-4d7428e71924",
   "metadata": {},
   "outputs": [],
   "source": [
    "y_pred=clf.predict(X_test)"
   ]
  },
  {
   "cell_type": "code",
   "execution_count": 58,
   "id": "8924693d-c730-4c42-b355-857c6866300f",
   "metadata": {},
   "outputs": [],
   "source": [
    "from sklearn.model_selection import cross_val_score"
   ]
  },
  {
   "cell_type": "code",
   "execution_count": 59,
   "id": "002cc166-44cc-4ba8-add8-f92be5757917",
   "metadata": {},
   "outputs": [],
   "source": [
    "a=cross_val_score(clf,X_train,y_train,cv=3,scoring=\"accuracy\")#cross_validation"
   ]
  },
  {
   "cell_type": "code",
   "execution_count": 60,
   "id": "5060c27d-56e9-4fe9-9236-aa26ddfd2e98",
   "metadata": {},
   "outputs": [
    {
     "name": "stdout",
     "output_type": "stream",
     "text": [
      "Accuracy is: 84.68584146550248\n"
     ]
    }
   ],
   "source": [
    "print(\"Accuracy is:\",a.mean()*100)  "
   ]
  },
  {
   "cell_type": "code",
   "execution_count": null,
   "id": "96d45bf5-382a-4c67-903e-5c807e810661",
   "metadata": {},
   "outputs": [],
   "source": []
  },
  {
   "cell_type": "code",
   "execution_count": null,
   "id": "c7161221-9ab5-4e0c-aeb0-183529a42b11",
   "metadata": {},
   "outputs": [],
   "source": []
  }
 ],
 "metadata": {
  "kernelspec": {
   "display_name": "Python 3",
   "language": "python",
   "name": "python3"
  },
  "language_info": {
   "codemirror_mode": {
    "name": "ipython",
    "version": 3
   },
   "file_extension": ".py",
   "mimetype": "text/x-python",
   "name": "python",
   "nbconvert_exporter": "python",
   "pygments_lexer": "ipython3",
   "version": "3.8.5"
  }
 },
 "nbformat": 4,
 "nbformat_minor": 5
}
