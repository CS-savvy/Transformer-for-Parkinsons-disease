{
 "cells": [
  {
   "cell_type": "code",
   "execution_count": 15,
   "id": "4d5a9284",
   "metadata": {},
   "outputs": [],
   "source": [
    "import pandas as pd\n",
    "import matplotlib.pyplot as plt\n",
    "import numpy as np\n",
    "from pathlib import Path"
   ]
  },
  {
   "cell_type": "code",
   "execution_count": 2,
   "id": "50c04c78",
   "metadata": {},
   "outputs": [],
   "source": [
    "this_dir = Path.cwd()\n",
    "dataset_file = this_dir / \"data/pd_speech_features.ods\" "
   ]
  },
  {
   "cell_type": "code",
   "execution_count": 3,
   "id": "70e6ae88",
   "metadata": {},
   "outputs": [
    {
     "data": {
      "text/html": [
       "<div>\n",
       "<style scoped>\n",
       "    .dataframe tbody tr th:only-of-type {\n",
       "        vertical-align: middle;\n",
       "    }\n",
       "\n",
       "    .dataframe tbody tr th {\n",
       "        vertical-align: top;\n",
       "    }\n",
       "\n",
       "    .dataframe thead tr th {\n",
       "        text-align: left;\n",
       "    }\n",
       "</style>\n",
       "<table border=\"1\" class=\"dataframe\">\n",
       "  <thead>\n",
       "    <tr>\n",
       "      <th></th>\n",
       "      <th colspan=\"2\" halign=\"left\">Basic Info</th>\n",
       "      <th colspan=\"8\" halign=\"left\">Baseline Features</th>\n",
       "      <th>...</th>\n",
       "      <th colspan=\"9\" halign=\"left\">TQWT Features</th>\n",
       "      <th>Class</th>\n",
       "    </tr>\n",
       "    <tr>\n",
       "      <th></th>\n",
       "      <th>id</th>\n",
       "      <th>gender</th>\n",
       "      <th>PPE</th>\n",
       "      <th>DFA</th>\n",
       "      <th>RPDE</th>\n",
       "      <th>numPulses</th>\n",
       "      <th>numPeriodsPulses</th>\n",
       "      <th>meanPeriodPulses</th>\n",
       "      <th>stdDevPeriodPulses</th>\n",
       "      <th>locPctJitter</th>\n",
       "      <th>...</th>\n",
       "      <th>tqwt_kurtosisValue_dec_28</th>\n",
       "      <th>tqwt_kurtosisValue_dec_29</th>\n",
       "      <th>tqwt_kurtosisValue_dec_30</th>\n",
       "      <th>tqwt_kurtosisValue_dec_31</th>\n",
       "      <th>tqwt_kurtosisValue_dec_32</th>\n",
       "      <th>tqwt_kurtosisValue_dec_33</th>\n",
       "      <th>tqwt_kurtosisValue_dec_34</th>\n",
       "      <th>tqwt_kurtosisValue_dec_35</th>\n",
       "      <th>tqwt_kurtosisValue_dec_36</th>\n",
       "      <th>class</th>\n",
       "    </tr>\n",
       "  </thead>\n",
       "  <tbody>\n",
       "    <tr>\n",
       "      <th>0</th>\n",
       "      <td>0</td>\n",
       "      <td>1</td>\n",
       "      <td>0.85247</td>\n",
       "      <td>0.71826</td>\n",
       "      <td>0.57227</td>\n",
       "      <td>240</td>\n",
       "      <td>239</td>\n",
       "      <td>0.008064</td>\n",
       "      <td>0.000087</td>\n",
       "      <td>0.00218</td>\n",
       "      <td>...</td>\n",
       "      <td>1.5620</td>\n",
       "      <td>2.6445</td>\n",
       "      <td>3.8686</td>\n",
       "      <td>4.2105</td>\n",
       "      <td>5.1221</td>\n",
       "      <td>4.4625</td>\n",
       "      <td>2.6202</td>\n",
       "      <td>3.0004</td>\n",
       "      <td>18.9405</td>\n",
       "      <td>1</td>\n",
       "    </tr>\n",
       "    <tr>\n",
       "      <th>1</th>\n",
       "      <td>0</td>\n",
       "      <td>1</td>\n",
       "      <td>0.76686</td>\n",
       "      <td>0.69481</td>\n",
       "      <td>0.53966</td>\n",
       "      <td>234</td>\n",
       "      <td>233</td>\n",
       "      <td>0.008258</td>\n",
       "      <td>0.000073</td>\n",
       "      <td>0.00195</td>\n",
       "      <td>...</td>\n",
       "      <td>1.5589</td>\n",
       "      <td>3.6107</td>\n",
       "      <td>23.5155</td>\n",
       "      <td>14.1962</td>\n",
       "      <td>11.0261</td>\n",
       "      <td>9.5082</td>\n",
       "      <td>6.5245</td>\n",
       "      <td>6.3431</td>\n",
       "      <td>45.1780</td>\n",
       "      <td>1</td>\n",
       "    </tr>\n",
       "    <tr>\n",
       "      <th>2</th>\n",
       "      <td>0</td>\n",
       "      <td>1</td>\n",
       "      <td>0.85083</td>\n",
       "      <td>0.67604</td>\n",
       "      <td>0.58982</td>\n",
       "      <td>232</td>\n",
       "      <td>231</td>\n",
       "      <td>0.008340</td>\n",
       "      <td>0.000060</td>\n",
       "      <td>0.00176</td>\n",
       "      <td>...</td>\n",
       "      <td>1.5643</td>\n",
       "      <td>2.3308</td>\n",
       "      <td>9.4959</td>\n",
       "      <td>10.7458</td>\n",
       "      <td>11.0177</td>\n",
       "      <td>4.8066</td>\n",
       "      <td>2.9199</td>\n",
       "      <td>3.1495</td>\n",
       "      <td>4.7666</td>\n",
       "      <td>1</td>\n",
       "    </tr>\n",
       "    <tr>\n",
       "      <th>3</th>\n",
       "      <td>1</td>\n",
       "      <td>0</td>\n",
       "      <td>0.41121</td>\n",
       "      <td>0.79672</td>\n",
       "      <td>0.59257</td>\n",
       "      <td>178</td>\n",
       "      <td>177</td>\n",
       "      <td>0.010858</td>\n",
       "      <td>0.000183</td>\n",
       "      <td>0.00419</td>\n",
       "      <td>...</td>\n",
       "      <td>3.7805</td>\n",
       "      <td>3.5664</td>\n",
       "      <td>5.2558</td>\n",
       "      <td>14.0403</td>\n",
       "      <td>4.2235</td>\n",
       "      <td>4.6857</td>\n",
       "      <td>4.8460</td>\n",
       "      <td>6.2650</td>\n",
       "      <td>4.0603</td>\n",
       "      <td>1</td>\n",
       "    </tr>\n",
       "    <tr>\n",
       "      <th>4</th>\n",
       "      <td>1</td>\n",
       "      <td>0</td>\n",
       "      <td>0.32790</td>\n",
       "      <td>0.79782</td>\n",
       "      <td>0.53028</td>\n",
       "      <td>236</td>\n",
       "      <td>235</td>\n",
       "      <td>0.008162</td>\n",
       "      <td>0.002669</td>\n",
       "      <td>0.00535</td>\n",
       "      <td>...</td>\n",
       "      <td>6.1727</td>\n",
       "      <td>5.8416</td>\n",
       "      <td>6.0805</td>\n",
       "      <td>5.7621</td>\n",
       "      <td>7.7817</td>\n",
       "      <td>11.6891</td>\n",
       "      <td>8.2103</td>\n",
       "      <td>5.0559</td>\n",
       "      <td>6.1164</td>\n",
       "      <td>1</td>\n",
       "    </tr>\n",
       "  </tbody>\n",
       "</table>\n",
       "<p>5 rows × 755 columns</p>\n",
       "</div>"
      ],
      "text/plain": [
       "  Basic Info        Baseline Features                              \\\n",
       "          id gender               PPE      DFA     RPDE numPulses   \n",
       "0          0      1           0.85247  0.71826  0.57227       240   \n",
       "1          0      1           0.76686  0.69481  0.53966       234   \n",
       "2          0      1           0.85083  0.67604  0.58982       232   \n",
       "3          1      0           0.41121  0.79672  0.59257       178   \n",
       "4          1      0           0.32790  0.79782  0.53028       236   \n",
       "\n",
       "                                                                     ...  \\\n",
       "  numPeriodsPulses meanPeriodPulses stdDevPeriodPulses locPctJitter  ...   \n",
       "0              239         0.008064           0.000087      0.00218  ...   \n",
       "1              233         0.008258           0.000073      0.00195  ...   \n",
       "2              231         0.008340           0.000060      0.00176  ...   \n",
       "3              177         0.010858           0.000183      0.00419  ...   \n",
       "4              235         0.008162           0.002669      0.00535  ...   \n",
       "\n",
       "              TQWT Features                            \\\n",
       "  tqwt_kurtosisValue_dec_28 tqwt_kurtosisValue_dec_29   \n",
       "0                    1.5620                    2.6445   \n",
       "1                    1.5589                    3.6107   \n",
       "2                    1.5643                    2.3308   \n",
       "3                    3.7805                    3.5664   \n",
       "4                    6.1727                    5.8416   \n",
       "\n",
       "                                                       \\\n",
       "  tqwt_kurtosisValue_dec_30 tqwt_kurtosisValue_dec_31   \n",
       "0                    3.8686                    4.2105   \n",
       "1                   23.5155                   14.1962   \n",
       "2                    9.4959                   10.7458   \n",
       "3                    5.2558                   14.0403   \n",
       "4                    6.0805                    5.7621   \n",
       "\n",
       "                                                       \\\n",
       "  tqwt_kurtosisValue_dec_32 tqwt_kurtosisValue_dec_33   \n",
       "0                    5.1221                    4.4625   \n",
       "1                   11.0261                    9.5082   \n",
       "2                   11.0177                    4.8066   \n",
       "3                    4.2235                    4.6857   \n",
       "4                    7.7817                   11.6891   \n",
       "\n",
       "                                                       \\\n",
       "  tqwt_kurtosisValue_dec_34 tqwt_kurtosisValue_dec_35   \n",
       "0                    2.6202                    3.0004   \n",
       "1                    6.5245                    6.3431   \n",
       "2                    2.9199                    3.1495   \n",
       "3                    4.8460                    6.2650   \n",
       "4                    8.2103                    5.0559   \n",
       "\n",
       "                            Class  \n",
       "  tqwt_kurtosisValue_dec_36 class  \n",
       "0                   18.9405     1  \n",
       "1                   45.1780     1  \n",
       "2                    4.7666     1  \n",
       "3                    4.0603     1  \n",
       "4                    6.1164     1  \n",
       "\n",
       "[5 rows x 755 columns]"
      ]
     },
     "execution_count": 3,
     "metadata": {},
     "output_type": "execute_result"
    }
   ],
   "source": [
    "df = pd.read_excel(dataset_file, header=[0, 1], engine=\"odf\")\n",
    "df.head()"
   ]
  },
  {
   "cell_type": "markdown",
   "id": "028c3e07",
   "metadata": {},
   "source": [
    "## Feature profile"
   ]
  },
  {
   "cell_type": "code",
   "execution_count": 4,
   "id": "b1538cfc",
   "metadata": {},
   "outputs": [
    {
     "data": {
      "text/html": [
       "<div>\n",
       "<style scoped>\n",
       "    .dataframe tbody tr th:only-of-type {\n",
       "        vertical-align: middle;\n",
       "    }\n",
       "\n",
       "    .dataframe tbody tr th {\n",
       "        vertical-align: top;\n",
       "    }\n",
       "\n",
       "    .dataframe thead th {\n",
       "        text-align: right;\n",
       "    }\n",
       "</style>\n",
       "<table border=\"1\" class=\"dataframe\">\n",
       "  <thead>\n",
       "    <tr style=\"text-align: right;\">\n",
       "      <th></th>\n",
       "      <th>Feature Type</th>\n",
       "      <th>Features</th>\n",
       "    </tr>\n",
       "  </thead>\n",
       "  <tbody>\n",
       "    <tr>\n",
       "      <th>0</th>\n",
       "      <td>Basic Info</td>\n",
       "      <td>id</td>\n",
       "    </tr>\n",
       "    <tr>\n",
       "      <th>1</th>\n",
       "      <td>Basic Info</td>\n",
       "      <td>gender</td>\n",
       "    </tr>\n",
       "    <tr>\n",
       "      <th>2</th>\n",
       "      <td>Baseline Features</td>\n",
       "      <td>PPE</td>\n",
       "    </tr>\n",
       "    <tr>\n",
       "      <th>3</th>\n",
       "      <td>Baseline Features</td>\n",
       "      <td>DFA</td>\n",
       "    </tr>\n",
       "    <tr>\n",
       "      <th>4</th>\n",
       "      <td>Baseline Features</td>\n",
       "      <td>RPDE</td>\n",
       "    </tr>\n",
       "  </tbody>\n",
       "</table>\n",
       "</div>"
      ],
      "text/plain": [
       "        Feature Type Features\n",
       "0         Basic Info       id\n",
       "1         Basic Info   gender\n",
       "2  Baseline Features      PPE\n",
       "3  Baseline Features      DFA\n",
       "4  Baseline Features     RPDE"
      ]
     },
     "execution_count": 4,
     "metadata": {},
     "output_type": "execute_result"
    }
   ],
   "source": [
    "feature_df = pd.DataFrame(list(df.columns.values), columns=['Feature Type', 'Features'])\n",
    "feature_df.head()"
   ]
  },
  {
   "cell_type": "code",
   "execution_count": 5,
   "id": "6b26ccdf",
   "metadata": {},
   "outputs": [
    {
     "data": {
      "text/plain": [
       "{'Bandwidth Parameters': 4,\n",
       " 'Baseline Features': 21,\n",
       " 'Formant Frequencies': 4,\n",
       " 'Intensity Parameters': 3,\n",
       " 'MFCC': 84,\n",
       " 'TQWT Features': 432,\n",
       " 'Vocal Fold': 22,\n",
       " 'Wavelet Features': 182}"
      ]
     },
     "execution_count": 5,
     "metadata": {},
     "output_type": "execute_result"
    }
   ],
   "source": [
    "grouped = feature_df.groupby('Feature Type')\n",
    "feature_count = {grp_name: len(ids) for grp_name, ids in grouped.groups.items()}\n",
    "del feature_count['Basic Info'], feature_count['Class']\n",
    "feature_count"
   ]
  },
  {
   "cell_type": "code",
   "execution_count": 6,
   "id": "c53b91e6",
   "metadata": {},
   "outputs": [
    {
     "data": {
      "text/plain": [
       "<BarContainer object of 8 artists>"
      ]
     },
     "execution_count": 6,
     "metadata": {},
     "output_type": "execute_result"
    },
    {
     "data": {
      "image/png": "[encoded data removed]",
      "text/plain": [
       "<Figure size 1152x360 with 1 Axes>"
      ]
     },
     "metadata": {
      "needs_background": "light"
     },
     "output_type": "display_data"
    }
   ],
   "source": [
    "f, ax = plt.subplots(figsize=(16,5))\n",
    "ax.bar(feature_count.keys(), feature_count.values(), width=.5, color='g')"
   ]
  },
  {
   "cell_type": "markdown",
   "id": "dc37d93c",
   "metadata": {},
   "source": [
    "## Participants profile"
   ]
  },
  {
   "cell_type": "code",
   "execution_count": 8,
   "id": "02cfc5c9",
   "metadata": {},
   "outputs": [
    {
     "data": {
      "text/html": [
       "<div>\n",
       "<style scoped>\n",
       "    .dataframe tbody tr th:only-of-type {\n",
       "        vertical-align: middle;\n",
       "    }\n",
       "\n",
       "    .dataframe tbody tr th {\n",
       "        vertical-align: top;\n",
       "    }\n",
       "\n",
       "    .dataframe thead th {\n",
       "        text-align: right;\n",
       "    }\n",
       "</style>\n",
       "<table border=\"1\" class=\"dataframe\">\n",
       "  <thead>\n",
       "    <tr style=\"text-align: right;\">\n",
       "      <th></th>\n",
       "      <th>id</th>\n",
       "      <th>gender</th>\n",
       "      <th>class</th>\n",
       "    </tr>\n",
       "  </thead>\n",
       "  <tbody>\n",
       "    <tr>\n",
       "      <th>0</th>\n",
       "      <td>0</td>\n",
       "      <td>1</td>\n",
       "      <td>1</td>\n",
       "    </tr>\n",
       "    <tr>\n",
       "      <th>1</th>\n",
       "      <td>0</td>\n",
       "      <td>1</td>\n",
       "      <td>1</td>\n",
       "    </tr>\n",
       "    <tr>\n",
       "      <th>2</th>\n",
       "      <td>0</td>\n",
       "      <td>1</td>\n",
       "      <td>1</td>\n",
       "    </tr>\n",
       "    <tr>\n",
       "      <th>3</th>\n",
       "      <td>1</td>\n",
       "      <td>0</td>\n",
       "      <td>1</td>\n",
       "    </tr>\n",
       "    <tr>\n",
       "      <th>4</th>\n",
       "      <td>1</td>\n",
       "      <td>0</td>\n",
       "      <td>1</td>\n",
       "    </tr>\n",
       "  </tbody>\n",
       "</table>\n",
       "</div>"
      ],
      "text/plain": [
       "   id  gender  class\n",
       "0   0       1      1\n",
       "1   0       1      1\n",
       "2   0       1      1\n",
       "3   1       0      1\n",
       "4   1       0      1"
      ]
     },
     "execution_count": 8,
     "metadata": {},
     "output_type": "execute_result"
    }
   ],
   "source": [
    "par_df = pd.concat([df['Basic Info'], df['Class']], axis=1)\n",
    "par_df.head()"
   ]
  },
  {
   "cell_type": "code",
   "execution_count": 46,
   "id": "2e365470",
   "metadata": {},
   "outputs": [
    {
     "name": "stdout",
     "output_type": "stream",
     "text": [
      "Total No of participants :  252\n"
     ]
    }
   ],
   "source": [
    "grouped_by_parti = par_df.groupby(\"id\")\n",
    "participants_count = len(grouped_by_parti)\n",
    "print(\"Total No of participants : \", participants_count)"
   ]
  },
  {
   "cell_type": "code",
   "execution_count": 24,
   "id": "200054ed",
   "metadata": {},
   "outputs": [
    {
     "data": {
      "text/html": [
       "<div>\n",
       "<style scoped>\n",
       "    .dataframe tbody tr th:only-of-type {\n",
       "        vertical-align: middle;\n",
       "    }\n",
       "\n",
       "    .dataframe tbody tr th {\n",
       "        vertical-align: top;\n",
       "    }\n",
       "\n",
       "    .dataframe thead th {\n",
       "        text-align: right;\n",
       "    }\n",
       "</style>\n",
       "<table border=\"1\" class=\"dataframe\">\n",
       "  <thead>\n",
       "    <tr style=\"text-align: right;\">\n",
       "      <th></th>\n",
       "      <th>Participant ID</th>\n",
       "      <th>Instance Count</th>\n",
       "      <th>Gender</th>\n",
       "      <th>Parkinson-s disease</th>\n",
       "    </tr>\n",
       "  </thead>\n",
       "  <tbody>\n",
       "    <tr>\n",
       "      <th>0</th>\n",
       "      <td>0</td>\n",
       "      <td>3</td>\n",
       "      <td>1</td>\n",
       "      <td>1</td>\n",
       "    </tr>\n",
       "    <tr>\n",
       "      <th>1</th>\n",
       "      <td>1</td>\n",
       "      <td>3</td>\n",
       "      <td>0</td>\n",
       "      <td>1</td>\n",
       "    </tr>\n",
       "    <tr>\n",
       "      <th>2</th>\n",
       "      <td>2</td>\n",
       "      <td>3</td>\n",
       "      <td>1</td>\n",
       "      <td>1</td>\n",
       "    </tr>\n",
       "    <tr>\n",
       "      <th>3</th>\n",
       "      <td>3</td>\n",
       "      <td>3</td>\n",
       "      <td>0</td>\n",
       "      <td>1</td>\n",
       "    </tr>\n",
       "    <tr>\n",
       "      <th>4</th>\n",
       "      <td>4</td>\n",
       "      <td>3</td>\n",
       "      <td>0</td>\n",
       "      <td>1</td>\n",
       "    </tr>\n",
       "  </tbody>\n",
       "</table>\n",
       "</div>"
      ],
      "text/plain": [
       "   Participant ID  Instance Count  Gender  Parkinson-s disease\n",
       "0               0               3       1                    1\n",
       "1               1               3       0                    1\n",
       "2               2               3       1                    1\n",
       "3               3               3       0                    1\n",
       "4               4               3       0                    1"
      ]
     },
     "execution_count": 24,
     "metadata": {},
     "output_type": "execute_result"
    }
   ],
   "source": [
    "participants_profile = []\n",
    "for ind , grp in grouped_by_parti:\n",
    "    ag = grp['gender'].to_numpy()\n",
    "    assert (ag[0] == ag).all()\n",
    "    ac = grp['class'].to_numpy()\n",
    "    assert (ac[0] == ac).all()\n",
    "    participants_profile.append((ind, len(grp), ag[0], ac[0]))\n",
    "\n",
    "participants_profile = pd.DataFrame(participants_profile, columns=['Participant ID', 'Instance Count', 'Gender', 'Parkinson-s disease'])\n",
    "participants_profile.head()"
   ]
  },
  {
   "cell_type": "code",
   "execution_count": 30,
   "id": "c91ef55e",
   "metadata": {},
   "outputs": [
    {
     "data": {
      "text/plain": [
       "count    252.0\n",
       "mean       3.0\n",
       "std        0.0\n",
       "min        3.0\n",
       "25%        3.0\n",
       "50%        3.0\n",
       "75%        3.0\n",
       "max        3.0\n",
       "Name: Instance Count, dtype: float64"
      ]
     },
     "execution_count": 30,
     "metadata": {},
     "output_type": "execute_result"
    }
   ],
   "source": [
    "participants_profile['Instance Count'].describe()"
   ]
  },
  {
   "cell_type": "code",
   "execution_count": 68,
   "id": "3a93a3bd",
   "metadata": {},
   "outputs": [
    {
     "data": {
      "image/png": "[encoded data removed]",
      "text/plain": [
       "<Figure size 720x720 with 2 Axes>"
      ]
     },
     "metadata": {},
     "output_type": "display_data"
    }
   ],
   "source": [
    "plt.figure(figsize=(10,10))\n",
    "\n",
    "gender_count = participants_profile['Gender'].value_counts()\n",
    "labels = ['Female', 'Male']\n",
    "sizes = (gender_count[0], gender_count[1])\n",
    "ax1 = plt.subplot(121)\n",
    "ax1.pie(sizes, labels=labels, autopct='%1.1f%%', shadow=True, startangle=90)\n",
    "ax1.set_title('Gender')\n",
    "\n",
    "pk_count = participants_profile['Parkinson-s disease'].value_counts()\n",
    "labels = ['Yes', 'No']\n",
    "sizes = (pk_count[1], pk_count[0])\n",
    "ax2 = plt.subplot(122)\n",
    "ax2.pie(sizes, labels=labels, autopct='%1.1f%%', shadow=True, startangle=90)\n",
    "ax2.set_title('Parkinson-s disease')\n",
    "plt.show()"
   ]
  },
  {
   "cell_type": "code",
   "execution_count": null,
   "id": "cb42bfba",
   "metadata": {},
   "outputs": [],
   "source": []
  }
 ],
 "metadata": {
  "kernelspec": {
   "display_name": "Python 3",
   "language": "python",
   "name": "python3"
  },
  "language_info": {
   "codemirror_mode": {
    "name": "ipython",
    "version": 3
   },
   "file_extension": ".py",
   "mimetype": "text/x-python",
   "name": "python",
   "nbconvert_exporter": "python",
   "pygments_lexer": "ipython3",
   "version": "3.7.9"
  }
 },
 "nbformat": 4,
 "nbformat_minor": 5
}
